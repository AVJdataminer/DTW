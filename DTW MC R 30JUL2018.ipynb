{
 "cells": [
  {
   "cell_type": "markdown",
   "metadata": {},
   "source": [
    "## Create directories with date and versions"
   ]
  },
  {
   "cell_type": "code",
   "execution_count": 1,
   "metadata": {},
   "outputs": [
    {
     "data": {
      "text/html": [
       "TRUE"
      ],
      "text/latex": [
       "TRUE"
      ],
      "text/markdown": [
       "TRUE"
      ],
      "text/plain": [
       "[1] TRUE"
      ]
     },
     "metadata": {},
     "output_type": "display_data"
    },
    {
     "data": {
      "text/html": [
       "TRUE"
      ],
      "text/latex": [
       "TRUE"
      ],
      "text/markdown": [
       "TRUE"
      ],
      "text/plain": [
       "[1] TRUE"
      ]
     },
     "metadata": {},
     "output_type": "display_data"
    },
    {
     "data": {
      "text/html": [
       "TRUE"
      ],
      "text/latex": [
       "TRUE"
      ],
      "text/markdown": [
       "TRUE"
      ],
      "text/plain": [
       "[1] TRUE"
      ]
     },
     "metadata": {},
     "output_type": "display_data"
    },
    {
     "data": {
      "text/html": [
       "<ol class=list-inline>\n",
       "\t<li>'dtw_indata'</li>\n",
       "\t<li>'version_name'</li>\n",
       "</ol>\n"
      ],
      "text/latex": [
       "\\begin{enumerate*}\n",
       "\\item 'dtw\\_indata'\n",
       "\\item 'version\\_name'\n",
       "\\end{enumerate*}\n"
      ],
      "text/markdown": [
       "1. 'dtw_indata'\n",
       "2. 'version_name'\n",
       "\n",
       "\n"
      ],
      "text/plain": [
       "[1] \"dtw_indata\"   \"version_name\""
      ]
     },
     "metadata": {},
     "output_type": "display_data"
    },
    {
     "data": {
      "text/html": [
       "'output'"
      ],
      "text/latex": [
       "'output'"
      ],
      "text/markdown": [
       "'output'"
      ],
      "text/plain": [
       "[1] \"output\""
      ]
     },
     "metadata": {},
     "output_type": "display_data"
    }
   ],
   "source": [
    "## Create directories first\n",
    "t=format(Sys.time(), \"%d_%b_%Y\")\n",
    "dir.create(paste(\"C:/MinuteClinic/Dynamic_time_warping/modeling_work_\",t,sep=\"\"))\n",
    "setwd(paste(\"C:/MinuteClinic/Dynamic_time_warping/modeling_work_\",t,sep=\"\"))\n",
    "subDir=paste(getwd())\n",
    "version_path=paste(subDir,\"/version_name\",sep=\"\")\n",
    "ifelse(file.exists(version_path),,dir.create(file.path(version_path)))\n",
    "indata_path=paste(subDir,\"/dtw_indata\",sep=\"\")\n",
    "ifelse(file.exists(indata_path),,dir.create(file.path(indata_path)))\n",
    "\n",
    "modelpath=version_path\n",
    "outpath=paste(subDir,\"/version_name/output\",sep=\"\")\n",
    "ifelse(file.exists(outpath),,dir.create(file.path(outpath)))\n",
    "#create figures folder\n",
    "#figures=paste(subDir,\"/version_name/figures\",sep=\"\")\n",
    "#ifelse(file.exists(figures),,dir.create(file.path(figures)))\n",
    "\n",
    "list.files()\n",
    "setwd(modelpath)\n",
    "list.files()"
   ]
  },
  {
   "cell_type": "markdown",
   "metadata": {},
   "source": [
    "## Create a time series data set from hourly data\n",
    "Starting with visit level data. Create an hourly aggregated data set for analysis."
   ]
  },
  {
   "cell_type": "code",
   "execution_count": 2,
   "metadata": {},
   "outputs": [
    {
     "name": "stderr",
     "output_type": "stream",
     "text": [
      "Loading required package: dplyr\n",
      "\n",
      "Attaching package: 'dplyr'\n",
      "\n",
      "The following objects are masked from 'package:stats':\n",
      "\n",
      "    filter, lag\n",
      "\n",
      "The following objects are masked from 'package:base':\n",
      "\n",
      "    intersect, setdiff, setequal, union\n",
      "\n",
      "Loading required package: lubridate\n",
      "\n",
      "Attaching package: 'lubridate'\n",
      "\n",
      "The following object is masked from 'package:base':\n",
      "\n",
      "    date\n",
      "\n"
     ]
    },
    {
     "name": "stdout",
     "output_type": "stream",
     "text": [
      "'data.frame':\t10958515 obs. of  19 variables:\n",
      " $ AppointmentDate         : int  20170101 20170101 20170101 20170101 20170101 20170101 20170101 20170101 20170101 20170101 ...\n",
      " $ ClinicNumber            : Factor w/ 1190 levels \"00012\",\"00015\",..: 552 552 552 908 1073 1073 1075 1076 1077 1078 ...\n",
      " $ ProviderEpicid          : Factor w/ 3996 levels \"*Unspecified\",..: 272 1 272 201 2920 2920 2285 2789 2283 2884 ...\n",
      " $ VisitStatus             : Factor w/ 7 levels \"Canceled\",\"Complete Non Revenue\",..: 6 4 6 6 6 6 6 6 6 6 ...\n",
      " $ AppointmentTimeOfDay    : int  123000 141000 151000 133000 115000 123000 91000 142500 104000 100000 ...\n",
      " $ AppointmentMadeTimeOfDay: int  122724 141127 151106 132939 114259 122823 91139 142612 104557 95952 ...\n",
      " $ Wait.Time               : num  0.05 NA 18.983 0.05 0.217 ...\n",
      " $ ScheduleVisitType       : Factor w/ 5 levels \"\",\"ClevelandClinicCoMan\",..: 1 1 1 1 1 1 1 1 1 1 ...\n",
      " $ VisitOrigin             : Factor w/ 4 levels \"Employee\",\"Hmpil\",..: 4 4 4 4 4 4 4 4 4 4 ...\n",
      " $ ScheduleTimeOfDay       : int  NA NA NA NA NA NA NA NA NA NA ...\n",
      " $ DigitalEstimatedWaitTime: int  NA NA NA NA NA NA NA NA NA NA ...\n",
      " $ Employee                : num  0 0 0 0 0 0 0 0 0 0 ...\n",
      " $ Hmpil                   : num  0 0 0 0 0 0 0 0 0 0 ...\n",
      " $ Scheduled               : num  0 0 0 0 0 0 0 0 0 0 ...\n",
      " $ WalkIn                  : num  1 1 1 1 1 1 1 1 1 1 ...\n",
      " $ RevenueGenerating       : num  1 0 1 1 1 1 1 1 1 1 ...\n",
      " $ CompleteNonGenerating   : num  0 0 0 0 0 0 0 0 0 0 ...\n",
      " $ ReferOutNoCharge        : num  0 0 0 0 0 0 0 0 0 0 ...\n",
      " $ Canceled                : num  0 0 0 0 0 0 0 0 0 0 ...\n"
     ]
    },
    {
     "data": {
      "text/html": [
       "<table>\n",
       "<thead><tr><th scope=col>AppointmentDate</th><th scope=col>ClinicNumber</th><th scope=col>ProviderEpicid</th><th scope=col>VisitStatus</th><th scope=col>AppointmentTimeOfDay</th><th scope=col>AppointmentMadeTimeOfDay</th><th scope=col>Wait.Time</th><th scope=col>ScheduleVisitType</th><th scope=col>VisitOrigin</th><th scope=col>ScheduleTimeOfDay</th><th scope=col>...</th><th scope=col>Employee</th><th scope=col>Hmpil</th><th scope=col>Scheduled</th><th scope=col>WalkIn</th><th scope=col>RevenueGenerating</th><th scope=col>CompleteNonGenerating</th><th scope=col>ReferOutNoCharge</th><th scope=col>Canceled</th><th scope=col>year</th><th scope=col>day</th></tr></thead>\n",
       "<tbody>\n",
       "\t<tr><td>20180101          </td><td>03631             </td><td>*Unspecified      </td><td>Canceled          </td><td>161000            </td><td>161000            </td><td>0.010000          </td><td>PSS               </td><td>Scheduled         </td><td>1610              </td><td>...               </td><td>0                 </td><td>0                 </td><td>1                 </td><td>0                 </td><td>0                 </td><td>0                 </td><td>0                 </td><td>1                 </td><td>2018              </td><td>2018              </td></tr>\n",
       "\t<tr><td>20180101          </td><td>03648             </td><td>*Unspecified      </td><td>Canceled          </td><td>110000            </td><td>110000            </td><td>0.010000          </td><td>TOS               </td><td>Scheduled         </td><td>1100              </td><td>...               </td><td>0                 </td><td>0                 </td><td>0                 </td><td>0                 </td><td>0                 </td><td>0                 </td><td>0                 </td><td>1                 </td><td>2018              </td><td>2018              </td></tr>\n",
       "\t<tr><td>20180101          </td><td>06633             </td><td>642726            </td><td>Revenue Generating</td><td> 94000            </td><td> 93651            </td><td>0.066666          </td><td>                  </td><td>Walk-In           </td><td> 940              </td><td>...               </td><td>0                 </td><td>0                 </td><td>0                 </td><td>1                 </td><td>1                 </td><td>0                 </td><td>0                 </td><td>0                 </td><td>2018              </td><td>2018              </td></tr>\n",
       "\t<tr><td>20180101          </td><td>06633             </td><td>642726            </td><td>Revenue Generating</td><td>113000            </td><td>112448            </td><td>0.116666          </td><td>                  </td><td>Walk-In           </td><td>1130              </td><td>...               </td><td>0                 </td><td>0                 </td><td>0                 </td><td>1                 </td><td>1                 </td><td>0                 </td><td>0                 </td><td>0                 </td><td>2018              </td><td>2018              </td></tr>\n",
       "\t<tr><td>20180101          </td><td>06633             </td><td>642726            </td><td>Revenue Generating</td><td>115000            </td><td>114920            </td><td>0.216666          </td><td>                  </td><td>Walk-In           </td><td>1150              </td><td>...               </td><td>0                 </td><td>0                 </td><td>0                 </td><td>1                 </td><td>1                 </td><td>0                 </td><td>0                 </td><td>0                 </td><td>2018              </td><td>2018              </td></tr>\n",
       "\t<tr><td>20180101          </td><td>06633             </td><td>642726            </td><td>Revenue Generating</td><td>124000            </td><td>123823            </td><td>0.083333          </td><td>                  </td><td>Walk-In           </td><td>1240              </td><td>...               </td><td>0                 </td><td>0                 </td><td>0                 </td><td>1                 </td><td>1                 </td><td>0                 </td><td>0                 </td><td>0                 </td><td>2018              </td><td>2018              </td></tr>\n",
       "</tbody>\n",
       "</table>\n"
      ],
      "text/latex": [
       "\\begin{tabular}{r|lllllllllllllllllllll}\n",
       " AppointmentDate & ClinicNumber & ProviderEpicid & VisitStatus & AppointmentTimeOfDay & AppointmentMadeTimeOfDay & Wait.Time & ScheduleVisitType & VisitOrigin & ScheduleTimeOfDay & ... & Employee & Hmpil & Scheduled & WalkIn & RevenueGenerating & CompleteNonGenerating & ReferOutNoCharge & Canceled & year & day\\\\\n",
       "\\hline\n",
       "\t 20180101           & 03631              & *Unspecified       & Canceled           & 161000             & 161000             & 0.010000           & PSS                & Scheduled          & 1610               & ...                & 0                  & 0                  & 1                  & 0                  & 0                  & 0                  & 0                  & 1                  & 2018               & 2018              \\\\\n",
       "\t 20180101           & 03648              & *Unspecified       & Canceled           & 110000             & 110000             & 0.010000           & TOS                & Scheduled          & 1100               & ...                & 0                  & 0                  & 0                  & 0                  & 0                  & 0                  & 0                  & 1                  & 2018               & 2018              \\\\\n",
       "\t 20180101           & 06633              & 642726             & Revenue Generating &  94000             &  93651             & 0.066666           &                    & Walk-In            &  940               & ...                & 0                  & 0                  & 0                  & 1                  & 1                  & 0                  & 0                  & 0                  & 2018               & 2018              \\\\\n",
       "\t 20180101           & 06633              & 642726             & Revenue Generating & 113000             & 112448             & 0.116666           &                    & Walk-In            & 1130               & ...                & 0                  & 0                  & 0                  & 1                  & 1                  & 0                  & 0                  & 0                  & 2018               & 2018              \\\\\n",
       "\t 20180101           & 06633              & 642726             & Revenue Generating & 115000             & 114920             & 0.216666           &                    & Walk-In            & 1150               & ...                & 0                  & 0                  & 0                  & 1                  & 1                  & 0                  & 0                  & 0                  & 2018               & 2018              \\\\\n",
       "\t 20180101           & 06633              & 642726             & Revenue Generating & 124000             & 123823             & 0.083333           &                    & Walk-In            & 1240               & ...                & 0                  & 0                  & 0                  & 1                  & 1                  & 0                  & 0                  & 0                  & 2018               & 2018              \\\\\n",
       "\\end{tabular}\n"
      ],
      "text/markdown": [
       "\n",
       "AppointmentDate | ClinicNumber | ProviderEpicid | VisitStatus | AppointmentTimeOfDay | AppointmentMadeTimeOfDay | Wait.Time | ScheduleVisitType | VisitOrigin | ScheduleTimeOfDay | ... | Employee | Hmpil | Scheduled | WalkIn | RevenueGenerating | CompleteNonGenerating | ReferOutNoCharge | Canceled | year | day | \n",
       "|---|---|---|---|---|---|\n",
       "| 20180101           | 03631              | *Unspecified       | Canceled           | 161000             | 161000             | 0.010000           | PSS                | Scheduled          | 1610               | ...                | 0                  | 0                  | 1                  | 0                  | 0                  | 0                  | 0                  | 1                  | 2018               | 2018               | \n",
       "| 20180101           | 03648              | *Unspecified       | Canceled           | 110000             | 110000             | 0.010000           | TOS                | Scheduled          | 1100               | ...                | 0                  | 0                  | 0                  | 0                  | 0                  | 0                  | 0                  | 1                  | 2018               | 2018               | \n",
       "| 20180101           | 06633              | 642726             | Revenue Generating |  94000             |  93651             | 0.066666           |                    | Walk-In            |  940               | ...                | 0                  | 0                  | 0                  | 1                  | 1                  | 0                  | 0                  | 0                  | 2018               | 2018               | \n",
       "| 20180101           | 06633              | 642726             | Revenue Generating | 113000             | 112448             | 0.116666           |                    | Walk-In            | 1130               | ...                | 0                  | 0                  | 0                  | 1                  | 1                  | 0                  | 0                  | 0                  | 2018               | 2018               | \n",
       "| 20180101           | 06633              | 642726             | Revenue Generating | 115000             | 114920             | 0.216666           |                    | Walk-In            | 1150               | ...                | 0                  | 0                  | 0                  | 1                  | 1                  | 0                  | 0                  | 0                  | 2018               | 2018               | \n",
       "| 20180101           | 06633              | 642726             | Revenue Generating | 124000             | 123823             | 0.083333           |                    | Walk-In            | 1240               | ...                | 0                  | 0                  | 0                  | 1                  | 1                  | 0                  | 0                  | 0                  | 2018               | 2018               | \n",
       "\n",
       "\n"
      ],
      "text/plain": [
       "  AppointmentDate ClinicNumber ProviderEpicid VisitStatus       \n",
       "1 20180101        03631        *Unspecified   Canceled          \n",
       "2 20180101        03648        *Unspecified   Canceled          \n",
       "3 20180101        06633        642726         Revenue Generating\n",
       "4 20180101        06633        642726         Revenue Generating\n",
       "5 20180101        06633        642726         Revenue Generating\n",
       "6 20180101        06633        642726         Revenue Generating\n",
       "  AppointmentTimeOfDay AppointmentMadeTimeOfDay Wait.Time ScheduleVisitType\n",
       "1 161000               161000                   0.010000  PSS              \n",
       "2 110000               110000                   0.010000  TOS              \n",
       "3  94000                93651                   0.066666                   \n",
       "4 113000               112448                   0.116666                   \n",
       "5 115000               114920                   0.216666                   \n",
       "6 124000               123823                   0.083333                   \n",
       "  VisitOrigin ScheduleTimeOfDay ... Employee Hmpil Scheduled WalkIn\n",
       "1 Scheduled   1610              ... 0        0     1         0     \n",
       "2 Scheduled   1100              ... 0        0     0         0     \n",
       "3 Walk-In      940              ... 0        0     0         1     \n",
       "4 Walk-In     1130              ... 0        0     0         1     \n",
       "5 Walk-In     1150              ... 0        0     0         1     \n",
       "6 Walk-In     1240              ... 0        0     0         1     \n",
       "  RevenueGenerating CompleteNonGenerating ReferOutNoCharge Canceled year day \n",
       "1 0                 0                     0                1        2018 2018\n",
       "2 0                 0                     0                1        2018 2018\n",
       "3 1                 0                     0                0        2018 2018\n",
       "4 1                 0                     0                0        2018 2018\n",
       "5 1                 0                     0                0        2018 2018\n",
       "6 1                 0                     0                0        2018 2018"
      ]
     },
     "metadata": {},
     "output_type": "display_data"
    }
   ],
   "source": [
    "require(dplyr)\n",
    "require(lubridate)\n",
    "# Develop best version hourly data ------\n",
    "options(warn=0)\n",
    "visit_level=read.csv('C:/MinuteClinic/Data/MC_data_01JAN2016_to_02JUL2018.csv')\n",
    "visit_level$Employee=ifelse(visit_level$VisitOrigin=='Employee',1,0)\n",
    "visit_level$Hmpil=ifelse(visit_level$VisitOrigin=='Hmpil',1,0)\n",
    "visit_level$Scheduled=ifelse(visit_level$VisitOrigin=='Scheduled',ifelse(visit_level$ScheduleVisitType==\"PSS\",1,0),0)\n",
    "visit_level$WalkIn=ifelse(visit_level$VisitOrigin=='Walk-In',1,0)\n",
    "visit_level$RevenueGenerating=ifelse(visit_level$VisitStatus=='Revenue Generating',1,0)\n",
    "visit_level$CompleteNonGenerating=ifelse(visit_level$VisitStatus=='Complete Non Revenue',1,0)\n",
    "visit_level$ReferOutNoCharge=ifelse(visit_level$VisitStatus=='Refer Out No Charge',1,0)\n",
    "visit_level$Canceled=ifelse(visit_level$VisitStatus=='Canceled',1,0)\n",
    "str(visit_level)\n",
    "visit_level$year=substr(visit_level$AppointmentDate,1,4)\n",
    "visit_level$day=substr(visit_level$AppointmentDate,1,4)\n",
    "visit_level$Wait.Time=ifelse(visit_level$Canceled==1,0.01,visit_level$Wait.Time)\n",
    "visit_level=filter(visit_level, year==2018)\n",
    "head(visit_level)"
   ]
  },
  {
   "cell_type": "code",
   "execution_count": 8,
   "metadata": {},
   "outputs": [
    {
     "data": {
      "text/html": [
       "<table>\n",
       "<thead><tr><th scope=col>ClinicNumber</th><th scope=col>AppointmentDate</th><th scope=col>Hour</th><th scope=col>provider.count</th><th scope=col>Employee_Sum</th><th scope=col>Hmpil_Sum</th><th scope=col>Scheduled_Sum</th><th scope=col>WalkIn_sum</th><th scope=col>ReferOutNoCharge_Sum</th><th scope=col>Canceled_Sum</th><th scope=col>wait_time_avg</th></tr></thead>\n",
       "<tbody>\n",
       "\t<tr><td>00012   </td><td>20180101</td><td> 8.50   </td><td>1       </td><td>0       </td><td>0       </td><td>0       </td><td>1       </td><td>0       </td><td>0       </td><td> 2.10000</td></tr>\n",
       "\t<tr><td>00012   </td><td>20180101</td><td> 9.15   </td><td>1       </td><td>0       </td><td>1       </td><td>0       </td><td>0       </td><td>0       </td><td>1       </td><td> 0.01000</td></tr>\n",
       "\t<tr><td>00012   </td><td>20180101</td><td> 9.40   </td><td>1       </td><td>0       </td><td>0       </td><td>0       </td><td>1       </td><td>0       </td><td>0       </td><td> 2.75000</td></tr>\n",
       "\t<tr><td>00012   </td><td>20180101</td><td>10.00   </td><td>1       </td><td>0       </td><td>0       </td><td>0       </td><td>1       </td><td>0       </td><td>0       </td><td>24.78333</td></tr>\n",
       "\t<tr><td>00012   </td><td>20180101</td><td>10.15   </td><td>1       </td><td>0       </td><td>0       </td><td>0       </td><td>1       </td><td>0       </td><td>0       </td><td> 9.00000</td></tr>\n",
       "\t<tr><td>00012   </td><td>20180101</td><td>10.30   </td><td>1       </td><td>0       </td><td>0       </td><td>0       </td><td>1       </td><td>0       </td><td>0       </td><td>20.88333</td></tr>\n",
       "</tbody>\n",
       "</table>\n"
      ],
      "text/latex": [
       "\\begin{tabular}{r|lllllllllll}\n",
       " ClinicNumber & AppointmentDate & Hour & provider.count & Employee\\_Sum & Hmpil\\_Sum & Scheduled\\_Sum & WalkIn\\_sum & ReferOutNoCharge\\_Sum & Canceled\\_Sum & wait\\_time\\_avg\\\\\n",
       "\\hline\n",
       "\t 00012    & 20180101 &  8.50    & 1        & 0        & 0        & 0        & 1        & 0        & 0        &  2.10000\\\\\n",
       "\t 00012    & 20180101 &  9.15    & 1        & 0        & 1        & 0        & 0        & 0        & 1        &  0.01000\\\\\n",
       "\t 00012    & 20180101 &  9.40    & 1        & 0        & 0        & 0        & 1        & 0        & 0        &  2.75000\\\\\n",
       "\t 00012    & 20180101 & 10.00    & 1        & 0        & 0        & 0        & 1        & 0        & 0        & 24.78333\\\\\n",
       "\t 00012    & 20180101 & 10.15    & 1        & 0        & 0        & 0        & 1        & 0        & 0        &  9.00000\\\\\n",
       "\t 00012    & 20180101 & 10.30    & 1        & 0        & 0        & 0        & 1        & 0        & 0        & 20.88333\\\\\n",
       "\\end{tabular}\n"
      ],
      "text/markdown": [
       "\n",
       "ClinicNumber | AppointmentDate | Hour | provider.count | Employee_Sum | Hmpil_Sum | Scheduled_Sum | WalkIn_sum | ReferOutNoCharge_Sum | Canceled_Sum | wait_time_avg | \n",
       "|---|---|---|---|---|---|\n",
       "| 00012    | 20180101 |  8.50    | 1        | 0        | 0        | 0        | 1        | 0        | 0        |  2.10000 | \n",
       "| 00012    | 20180101 |  9.15    | 1        | 0        | 1        | 0        | 0        | 0        | 1        |  0.01000 | \n",
       "| 00012    | 20180101 |  9.40    | 1        | 0        | 0        | 0        | 1        | 0        | 0        |  2.75000 | \n",
       "| 00012    | 20180101 | 10.00    | 1        | 0        | 0        | 0        | 1        | 0        | 0        | 24.78333 | \n",
       "| 00012    | 20180101 | 10.15    | 1        | 0        | 0        | 0        | 1        | 0        | 0        |  9.00000 | \n",
       "| 00012    | 20180101 | 10.30    | 1        | 0        | 0        | 0        | 1        | 0        | 0        | 20.88333 | \n",
       "\n",
       "\n"
      ],
      "text/plain": [
       "  ClinicNumber AppointmentDate Hour  provider.count Employee_Sum Hmpil_Sum\n",
       "1 00012        20180101         8.50 1              0            0        \n",
       "2 00012        20180101         9.15 1              0            1        \n",
       "3 00012        20180101         9.40 1              0            0        \n",
       "4 00012        20180101        10.00 1              0            0        \n",
       "5 00012        20180101        10.15 1              0            0        \n",
       "6 00012        20180101        10.30 1              0            0        \n",
       "  Scheduled_Sum WalkIn_sum ReferOutNoCharge_Sum Canceled_Sum wait_time_avg\n",
       "1 0             1          0                    0             2.10000     \n",
       "2 0             0          0                    1             0.01000     \n",
       "3 0             1          0                    0             2.75000     \n",
       "4 0             1          0                    0            24.78333     \n",
       "5 0             1          0                    0             9.00000     \n",
       "6 0             1          0                    0            20.88333     "
      ]
     },
     "metadata": {},
     "output_type": "display_data"
    }
   ],
   "source": [
    "#convert visit level to hourly\n",
    "visit_level$Hour=visit_level$AppointmentTimeOfDay/10000\n",
    "hourly=data.frame(visit_level%>%group_by(ClinicNumber,AppointmentDate,Hour)%>%summarise(provider.count=n_distinct(ProviderEpicid),\n",
    "        Employee_Sum=sum(Employee),Hmpil_Sum=sum(Hmpil),Scheduled_Sum=sum(Scheduled),WalkIn_sum=sum(WalkIn),\n",
    "        ReferOutNoCharge_Sum=sum(ReferOutNoCharge),Canceled_Sum=sum(Canceled),wait_time_avg=mean(Wait.Time,na.rm=T)))\n",
    "head(hourly)"
   ]
  },
  {
   "cell_type": "code",
   "execution_count": 18,
   "metadata": {},
   "outputs": [
    {
     "data": {
      "text/html": [
       "<ol class=list-inline>\n",
       "\t<li>8</li>\n",
       "\t<li>20</li>\n",
       "</ol>\n"
      ],
      "text/latex": [
       "\\begin{enumerate*}\n",
       "\\item 8\n",
       "\\item 20\n",
       "\\end{enumerate*}\n"
      ],
      "text/markdown": [
       "1. 8\n",
       "2. 20\n",
       "\n",
       "\n"
      ],
      "text/plain": [
       "[1]  8 20"
      ]
     },
     "metadata": {},
     "output_type": "display_data"
    }
   ],
   "source": [
    "hourly=filter(hourly, Hour>8 & Hour<=20)\n",
    "hourly$Hour=round(hourly$Hour)\n",
    "range(hourly$Hour)\n",
    "#hist(hourly$Hour)"
   ]
  },
  {
   "cell_type": "code",
   "execution_count": 23,
   "metadata": {},
   "outputs": [
    {
     "data": {
      "text/html": [
       "<table>\n",
       "<thead><tr><th></th><th scope=col>ClinicNumber</th><th scope=col>AppointmentDate</th><th scope=col>Hour</th><th scope=col>AllVisits</th><th scope=col>daily_sum</th><th scope=col>PerVisits</th></tr></thead>\n",
       "<tbody>\n",
       "\t<tr><th scope=row>1</th><td>00012     </td><td>20180101  </td><td> 8        </td><td>1         </td><td>17        </td><td>0.05882353</td></tr>\n",
       "\t<tr><th scope=row>2</th><td>00012     </td><td>20180101  </td><td> 9        </td><td>1         </td><td>17        </td><td>0.05882353</td></tr>\n",
       "\t<tr><th scope=row>4</th><td>00012     </td><td>20180101  </td><td>10        </td><td>1         </td><td>17        </td><td>0.05882353</td></tr>\n",
       "\t<tr><th scope=row>7</th><td>00012     </td><td>20180101  </td><td>11        </td><td>1         </td><td>17        </td><td>0.05882353</td></tr>\n",
       "\t<tr><th scope=row>10</th><td>00012     </td><td>20180101  </td><td>12        </td><td>1         </td><td>17        </td><td>0.05882353</td></tr>\n",
       "\t<tr><th scope=row>15</th><td>00012     </td><td>20180101  </td><td>13        </td><td>1         </td><td>17        </td><td>0.05882353</td></tr>\n",
       "</tbody>\n",
       "</table>\n"
      ],
      "text/latex": [
       "\\begin{tabular}{r|llllll}\n",
       "  & ClinicNumber & AppointmentDate & Hour & AllVisits & daily\\_sum & PerVisits\\\\\n",
       "\\hline\n",
       "\t1 & 00012      & 20180101   &  8         & 1          & 17         & 0.05882353\\\\\n",
       "\t2 & 00012      & 20180101   &  9         & 1          & 17         & 0.05882353\\\\\n",
       "\t4 & 00012      & 20180101   & 10         & 1          & 17         & 0.05882353\\\\\n",
       "\t7 & 00012      & 20180101   & 11         & 1          & 17         & 0.05882353\\\\\n",
       "\t10 & 00012      & 20180101   & 12         & 1          & 17         & 0.05882353\\\\\n",
       "\t15 & 00012      & 20180101   & 13         & 1          & 17         & 0.05882353\\\\\n",
       "\\end{tabular}\n"
      ],
      "text/markdown": [
       "\n",
       "| <!--/--> | ClinicNumber | AppointmentDate | Hour | AllVisits | daily_sum | PerVisits | \n",
       "|---|---|---|---|---|---|\n",
       "| 1 | 00012      | 20180101   |  8         | 1          | 17         | 0.05882353 | \n",
       "| 2 | 00012      | 20180101   |  9         | 1          | 17         | 0.05882353 | \n",
       "| 4 | 00012      | 20180101   | 10         | 1          | 17         | 0.05882353 | \n",
       "| 7 | 00012      | 20180101   | 11         | 1          | 17         | 0.05882353 | \n",
       "| 10 | 00012      | 20180101   | 12         | 1          | 17         | 0.05882353 | \n",
       "| 15 | 00012      | 20180101   | 13         | 1          | 17         | 0.05882353 | \n",
       "\n",
       "\n"
      ],
      "text/plain": [
       "   ClinicNumber AppointmentDate Hour AllVisits daily_sum PerVisits \n",
       "1  00012        20180101         8   1         17        0.05882353\n",
       "2  00012        20180101         9   1         17        0.05882353\n",
       "4  00012        20180101        10   1         17        0.05882353\n",
       "7  00012        20180101        11   1         17        0.05882353\n",
       "10 00012        20180101        12   1         17        0.05882353\n",
       "15 00012        20180101        13   1         17        0.05882353"
      ]
     },
     "metadata": {},
     "output_type": "display_data"
    }
   ],
   "source": [
    "hourly$AllVisits=hourly$Employee_Sum+hourly$Hmpil_Sum+hourly$Scheduled_Sum+hourly$WalkIn_sum\n",
    "daily=hourly%>%group_by(ClinicNumber,AppointmentDate)%>%summarise(daily_sum=sum(AllVisits))\n",
    "hrly=left_join(select(hourly,ClinicNumber, AppointmentDate,Hour,AllVisits), daily, by=c(\"ClinicNumber\",\"AppointmentDate\"))\n",
    "hrly=unique(hrly)\n",
    "hrly$PerVisits=hrly$AllVisits/hrly$daily_sum\n",
    "head(hrly)"
   ]
  },
  {
   "cell_type": "code",
   "execution_count": 30,
   "metadata": {
    "scrolled": true
   },
   "outputs": [
    {
     "data": {
      "text/plain": [
       "  ClinicNumber     AppointmentDate         Hour         AllVisits     \n",
       " 09721  :   2972   Min.   :20180101   Min.   : 8.00   Min.   : 0.000  \n",
       " 05924  :   2736   1st Qu.:20180209   1st Qu.:10.00   1st Qu.: 1.000  \n",
       " 09795  :   2719   Median :20180325   Median :13.00   Median : 1.000  \n",
       " 02175  :   2709   Mean   :20180353   Mean   :13.21   Mean   : 1.042  \n",
       " 09963  :   2634   3rd Qu.:20180512   3rd Qu.:16.00   3rd Qu.: 1.000  \n",
       " 01545  :   2590   Max.   :20180702   Max.   :20.00   Max.   :44.000  \n",
       " (Other):1847779                                                      \n",
       "   daily_sum        PerVisits     \n",
       " Min.   :  0.00   Min.   :0.0000  \n",
       " 1st Qu.: 14.00   1st Qu.:0.0385  \n",
       " Median : 20.00   Median :0.0526  \n",
       " Mean   : 20.89   Mean   :0.0604  \n",
       " 3rd Qu.: 26.00   3rd Qu.:0.0714  \n",
       " Max.   :161.00   Max.   :1.0000  \n",
       "                  NA's   :388     "
      ]
     },
     "metadata": {},
     "output_type": "display_data"
    },
    {
     "data": {
      "text/html": [
       "'C:/MinuteClinic/Dynamic_time_warping/modeling_work_31_Jul_2018/version_name'"
      ],
      "text/latex": [
       "'C:/MinuteClinic/Dynamic\\_time\\_warping/modeling\\_work\\_31\\_Jul\\_2018/version\\_name'"
      ],
      "text/markdown": [
       "'C:/MinuteClinic/Dynamic_time_warping/modeling_work_31_Jul_2018/version_name'"
      ],
      "text/plain": [
       "[1] \"C:/MinuteClinic/Dynamic_time_warping/modeling_work_31_Jul_2018/version_name\""
      ]
     },
     "metadata": {},
     "output_type": "display_data"
    }
   ],
   "source": [
    "summary(hrly)\n",
    "#plot(hrly$Hour,hrly$PerVisits)\n",
    "#hist(hrly$PerVisits)\n",
    "getwd()\n",
    "write.csv(hrly, 'C:/MinuteClinic/Dynamic_time_warping/DTW_Input_data/hourly_percent_visits_2018.csv', row.names=F)"
   ]
  },
  {
   "cell_type": "code",
   "execution_count": 46,
   "metadata": {},
   "outputs": [
    {
     "data": {
      "text/html": [
       "7603"
      ],
      "text/latex": [
       "7603"
      ],
      "text/markdown": [
       "7603"
      ],
      "text/plain": [
       "[1] 7603"
      ]
     },
     "metadata": {},
     "output_type": "display_data"
    },
    {
     "data": {
      "text/html": [
       "<table>\n",
       "<thead><tr><th></th><th scope=col>used</th><th scope=col>(Mb)</th><th scope=col>gc trigger</th><th scope=col>(Mb)</th><th scope=col>max used</th><th scope=col>(Mb)</th></tr></thead>\n",
       "<tbody>\n",
       "\t<tr><th scope=row>Ncells</th><td>  2543132 </td><td> 135.9    </td><td>   4391388</td><td> 234.6    </td><td>  6861544 </td><td> 366.5    </td></tr>\n",
       "\t<tr><th scope=row>Vcells</th><td>808381246 </td><td>6167.5    </td><td>1193888843</td><td>9108.7    </td><td>918528243 </td><td>7007.9    </td></tr>\n",
       "</tbody>\n",
       "</table>\n"
      ],
      "text/latex": [
       "\\begin{tabular}{r|llllll}\n",
       "  & used & (Mb) & gc trigger & (Mb) & max used & (Mb)\\\\\n",
       "\\hline\n",
       "\tNcells &   2543132  &  135.9     &    4391388 &  234.6     &   6861544  &  366.5    \\\\\n",
       "\tVcells & 808381246  & 6167.5     & 1193888843 & 9108.7     & 918528243  & 7007.9    \\\\\n",
       "\\end{tabular}\n"
      ],
      "text/markdown": [
       "\n",
       "| <!--/--> | used | (Mb) | gc trigger | (Mb) | max used | (Mb) | \n",
       "|---|---|\n",
       "| Ncells |   2543132  |  135.9     |    4391388 |  234.6     |   6861544  |  366.5     | \n",
       "| Vcells | 808381246  | 6167.5     | 1193888843 | 9108.7     | 918528243  | 7007.9     | \n",
       "\n",
       "\n"
      ],
      "text/plain": [
       "       used      (Mb)   gc trigger (Mb)   max used  (Mb)  \n",
       "Ncells   2543132  135.9    4391388  234.6   6861544  366.5\n",
       "Vcells 808381246 6167.5 1193888843 9108.7 918528243 7007.9"
      ]
     },
     "metadata": {},
     "output_type": "display_data"
    }
   ],
   "source": [
    "memory.limit()\n",
    "rm(list=ls())\n",
    "gc()"
   ]
  },
  {
   "cell_type": "code",
   "execution_count": 47,
   "metadata": {},
   "outputs": [
    {
     "ename": "ERROR",
     "evalue": "Error: cannot allocate vector of size 14.2 Mb\n",
     "output_type": "error",
     "traceback": [
      "Error: cannot allocate vector of size 14.2 Mb\nTraceback:\n",
      "1. hrly %>% separate(PerVisits, clinic_list)",
      "2. withVisible(eval(quote(`_fseq`(`_lhs`)), env, env))",
      "3. eval(quote(`_fseq`(`_lhs`)), env, env)",
      "4. eval(quote(`_fseq`(`_lhs`)), env, env)",
      "5. `_fseq`(`_lhs`)",
      "6. freduce(value, `_function_list`)",
      "7. withVisible(function_list[[k]](value))",
      "8. function_list[[k]](value)",
      "9. separate(., PerVisits, clinic_list)",
      "10. separate.data.frame(., PerVisits, clinic_list)",
      "11. str_split_fixed(value, sep, length(into), extra = extra, fill = fill)",
      "12. simplifyPieces(pieces, n, fill == \"left\")"
     ]
    }
   ],
   "source": [
    "#select just clinic and percent\n",
    "#convert data to one clinic per column of just the percent visits\n",
    "hrly=read.csv('C:/MinuteClinic/Dynamic_time_warping/DTW_Input_data/hourly_percent_visits_2018.csv')\n",
    "hrly=select(hrly,ClinicNumber,PerVisits)\n",
    "numcurves=length(unique(hrly$ClinicNumber))\n",
    "totallength=length(hrly$ClinicNumber)\n",
    "library(tidyr)\n",
    "clinic_list=paste(as.character(unique(hrly$ClinicNumber)),sep=\",\")\n",
    "wt=hrly %>% separate(PerVisits, clinic_list)\n",
    "head(wt)\n",
    "#widetable <- data.frame(matrix(hrly$PerVisits,ncol = numcurves, byrow = F))\n",
    "#head(widetable)\n",
    "\n",
    "#dmatrix=(dist(widetable, method=\"DTW\"))\n",
    "#clusters=(hclust(dmatrix, method=\"average\"))\n",
    "#ct=cutree(clusters,10)\n",
    "#zt=do.call(cbind,list(rep(ct, each=(totallenght/numcurves))))"
   ]
  },
  {
   "cell_type": "code",
   "execution_count": null,
   "metadata": {},
   "outputs": [],
   "source": []
  }
 ],
 "metadata": {
  "kernelspec": {
   "display_name": "R",
   "language": "R",
   "name": "ir"
  },
  "language_info": {
   "codemirror_mode": "r",
   "file_extension": ".r",
   "mimetype": "text/x-r-source",
   "name": "R",
   "pygments_lexer": "r",
   "version": "3.4.3"
  }
 },
 "nbformat": 4,
 "nbformat_minor": 2
}
